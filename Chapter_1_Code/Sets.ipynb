{
 "cells": [
  {
   "cell_type": "markdown",
   "metadata": {},
   "source": [
    "### Sets\n",
    "\n",
    "A set contains an unordered collection of unique and immutable objects. The set data type is, as the name implies, a Python implementation of the sets as they are known from mathematics. This explains, why sets unlike lists or tuples can't have multiple occurrences of the same element"
   ]
  },
  {
   "cell_type": "markdown",
   "metadata": {},
   "source": [
    "### Creating sets"
   ]
  },
  {
   "cell_type": "code",
   "execution_count": 7,
   "metadata": {
    "collapsed": false
   },
   "outputs": [
    {
     "name": "stdout",
     "output_type": "stream",
     "text": [
      "<type 'set'> set([])\n",
      "<type 'set'> set(['SAS', 'Python', 'R', 'Julia'])\n",
      "<type 'set'> set(['SAS', 'Python', 'R', 'Julia'])\n"
     ]
    }
   ],
   "source": [
    "# Creating an empty set\n",
    "languages = set()\n",
    "print type(languages), languages\n",
    "\n",
    "languages = {'Python', 'R', 'SAS', 'Julia'}\n",
    "print type(languages), languages\n",
    "\n",
    "# set of mixed datatypes\n",
    "mixed_set = {\"Python\", (2.7, 3.4)}\n",
    "print type(mixed_set), languages"
   ]
  },
  {
   "cell_type": "markdown",
   "metadata": {},
   "source": [
    "### Accessing set elements"
   ]
  },
  {
   "cell_type": "code",
   "execution_count": 4,
   "metadata": {
    "collapsed": false
   },
   "outputs": [
    {
     "name": "stdout",
     "output_type": "stream",
     "text": [
      "SAS\n",
      "['SAS', 'Python', 'R']\n"
     ]
    }
   ],
   "source": [
    "print list(languages)[0]\n",
    "print list(languages)[0:3]"
   ]
  },
  {
   "cell_type": "markdown",
   "metadata": {},
   "source": [
    "### Changing a set in Python\n",
    "\n",
    "Although sets are mutable, indexing on them will have no meaning due to the fact that they are unordered. So sets do not support accessing or changing an item/element using indexing or slicing. The add() method can be used to add single element and update() method for adding multiple elements. Note that the update() method can take the argument in the format of tuples, lists, strings or other sets. However, in all cases the duplicates are ignored."
   ]
  },
  {
   "cell_type": "code",
   "execution_count": 5,
   "metadata": {
    "collapsed": false
   },
   "outputs": [
    {
     "name": "stdout",
     "output_type": "stream",
     "text": [
      "set(['Python', 'R'])\n",
      "set(['Python', 'SAS', 'R'])\n",
      "set(['Python', 'SAS', 'R', 'Julia', 'SPSS'])\n",
      "set(['C', 'Java', 'Python', 'Data Science', 'Julia', 'SPSS', 'AI', 'R', 'SAS', 'Machine Learning'])\n"
     ]
    }
   ],
   "source": [
    "# initialize a set\n",
    "languages = {'Python', 'R'}\n",
    "print(languages)\n",
    "\n",
    "# add an element\n",
    "languages.add('SAS')\n",
    "print(languages)\n",
    "\n",
    "# add multiple elements\n",
    "languages.update(['Julia','SPSS'])\n",
    "print(languages)\n",
    "\n",
    "# add list and set\n",
    "languages.update(['Java','C'], {'Machine Learning','Data Science','AI'})\n",
    "print(languages)"
   ]
  },
  {
   "cell_type": "markdown",
   "metadata": {},
   "source": [
    "### Removing items from set\n",
    "\n",
    "The discard() or remove() method can be used to remove a particular item from set. The fundamental difference between discard() and remove() is that the first do not take any action if the item does not exist in the set, whereas remove() will raises an error in such scenario."
   ]
  },
  {
   "cell_type": "code",
   "execution_count": 6,
   "metadata": {
    "collapsed": false
   },
   "outputs": [
    {
     "name": "stdout",
     "output_type": "stream",
     "text": [
      "set(['C', 'Java', 'Python', 'Data Science', 'Julia', 'SPSS', 'R', 'SAS', 'Machine Learning'])\n",
      "set(['C', 'Java', 'Python', 'Data Science', 'Julia', 'SPSS', 'R', 'SAS', 'Machine Learning'])\n",
      "Removed: C from set(['Java', 'Python', 'Data Science', 'Julia', 'SPSS', 'R', 'SAS', 'Machine Learning'])\n"
     ]
    }
   ],
   "source": [
    "# remove an element\n",
    "languages.remove('AI')\n",
    "print(languages)\n",
    "\n",
    "# discard an element, although AI has already been removed discard will not throw an error\n",
    "languages.discard('AI')\n",
    "print(languages)\n",
    "\n",
    "# Pop will remove a random item from set\n",
    "print \"Removed:\", (languages.pop()), \"from\", languages"
   ]
  },
  {
   "cell_type": "markdown",
   "metadata": {
    "collapsed": true
   },
   "source": [
    "## Set operations\n",
    "As discussed earlier, sets allow us to use mathematical set operations such as union, intersection, difference and symmetric difference. We can achieve this with the help of operators or methods.\n",
    "\n",
    "### Set Union\n",
    "Union of two sets A and B will result to a set of all items combined from both sets. There are two ways of to perform union operation 1) Using | operator, 2) using union() method\n"
   ]
  },
  {
   "cell_type": "code",
   "execution_count": 1,
   "metadata": {
    "collapsed": false
   },
   "outputs": [
    {
     "name": "stdout",
     "output_type": "stream",
     "text": [
      "Union of A | B set([1, 2, 3, 4, 5, 6, 7, 8])\n"
     ]
    },
    {
     "data": {
      "text/plain": [
       "{1, 2, 3, 4, 5, 6, 7, 8}"
      ]
     },
     "execution_count": 1,
     "metadata": {},
     "output_type": "execute_result"
    }
   ],
   "source": [
    "# initialize A and B\n",
    "A = {1, 2, 3, 4, 5}\n",
    "B = {4, 5, 6, 7, 8}\n",
    "\n",
    "# use | operator\n",
    "print \"Union of A | B\", A|B\n",
    "\n",
    "# alternative we can use union()\n",
    "A.union(B)"
   ]
  },
  {
   "cell_type": "markdown",
   "metadata": {},
   "source": [
    "### Set Intersection\n",
    "Intersection of two sets A and B will result to a set of items that exists  or common in both sets. There are two ways to achieve intersection operation 1) using & operator, 2) using intersection() method"
   ]
  },
  {
   "cell_type": "code",
   "execution_count": 2,
   "metadata": {
    "collapsed": false
   },
   "outputs": [
    {
     "name": "stdout",
     "output_type": "stream",
     "text": [
      "Intersection of A & B set([4, 5])\n",
      "set([4, 5])\n"
     ]
    }
   ],
   "source": [
    "# use & operator\n",
    "print \"Intersection of A & B\", A & B\n",
    "\n",
    "# alternative we can use intersection()\n",
    "print A.intersection(B)"
   ]
  },
  {
   "cell_type": "markdown",
   "metadata": {},
   "source": [
    "### Set Difference\n",
    "Difference of two sets A and B (i.e., A - B) will result into a set of items which exists only in A and not in B. There are two ways to perform difference operation 1) using ‘–‘ operator, and 2) using difference() method"
   ]
  },
  {
   "cell_type": "code",
   "execution_count": 3,
   "metadata": {
    "collapsed": false
   },
   "outputs": [
    {
     "name": "stdout",
     "output_type": "stream",
     "text": [
      "Difference of A - B set([1, 2, 3])\n",
      "set([1, 2, 3])\n"
     ]
    }
   ],
   "source": [
    "# use - operator on A\n",
    "print \"Difference of A - B\", A - B\n",
    "\n",
    "# alternative we can use difference()\n",
    "print A.difference(B)"
   ]
  },
  {
   "cell_type": "markdown",
   "metadata": {},
   "source": [
    "### Set Symmetric Difference\n",
    "Symmetric difference of two sets A and B is a set of items from both sets that are not common. There are two ways to perform symmetric difference 1) using ^ operator, and 2) using symmetric_difference() mehtod"
   ]
  },
  {
   "cell_type": "code",
   "execution_count": 4,
   "metadata": {
    "collapsed": false
   },
   "outputs": [
    {
     "name": "stdout",
     "output_type": "stream",
     "text": [
      "Symmetric difference of A ^ B set([1, 2, 3, 6, 7, 8])\n"
     ]
    },
    {
     "data": {
      "text/plain": [
       "{1, 2, 3, 6, 7, 8}"
      ]
     },
     "execution_count": 4,
     "metadata": {},
     "output_type": "execute_result"
    }
   ],
   "source": [
    "# use ^ operator\n",
    "print \"Symmetric difference of A ^ B\", A ^ B\n",
    "\n",
    "# alternative we can use symmetric_difference()\n",
    "A.symmetric_difference(B)"
   ]
  },
  {
   "cell_type": "markdown",
   "metadata": {},
   "source": [
    "### Basic operations"
   ]
  },
  {
   "cell_type": "code",
   "execution_count": 9,
   "metadata": {
    "collapsed": false
   },
   "outputs": [
    {
     "name": "stdout",
     "output_type": "stream",
     "text": [
      "set(['SAS', 'Python', 'R', 'Julia'])\n",
      "set(['SAS', 'Python', 'R', 'Julia'])\n",
      "False\n",
      "False\n",
      "False\n",
      "15\n",
      "5\n",
      "1\n",
      "5\n"
     ]
    }
   ],
   "source": [
    "# Return a shallow copy of a set\n",
    "lang = languages.copy()\n",
    "print languages\n",
    "print lang\n",
    "\n",
    "# initialize A and B\n",
    "A = {1, 2, 3, 4, 5}\n",
    "B = {4, 5, 6, 7, 8}\n",
    "\n",
    "print A.isdisjoint(B)   # True, when two sets have a null intersection\n",
    "print A.issubset(B)     # True, when another set contains this set\n",
    "print A.issuperset(B)   # True, when this set contains another set\n",
    "sorted(B)               # Return a new sorted list\n",
    "print sum(A)           # Retrun the sum of all items\n",
    "print len(A)           # Return the length \n",
    "print min(A)           # Return the largest item\n",
    "print max(A)           # Return the smallest item\n"
   ]
  }
 ],
 "metadata": {
  "anaconda-cloud": {},
  "kernelspec": {
   "display_name": "Python [conda root]",
   "language": "python",
   "name": "conda-root-py"
  },
  "language_info": {
   "codemirror_mode": {
    "name": "ipython",
    "version": 2
   },
   "file_extension": ".py",
   "mimetype": "text/x-python",
   "name": "python",
   "nbconvert_exporter": "python",
   "pygments_lexer": "ipython2",
   "version": "2.7.12"
  }
 },
 "nbformat": 4,
 "nbformat_minor": 0
}
