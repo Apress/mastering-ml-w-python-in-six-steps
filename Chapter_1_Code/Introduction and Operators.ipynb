{
 "cells": [
  {
   "cell_type": "markdown",
   "metadata": {},
   "source": [
    "#### My First Python program"
   ]
  },
  {
   "cell_type": "code",
   "execution_count": 9,
   "metadata": {
    "collapsed": false
   },
   "outputs": [
    {
     "name": "stdout",
     "output_type": "stream",
     "text": [
      "Hello, Python World!\n"
     ]
    }
   ],
   "source": [
    "print \"Hello, Python World!\""
   ]
  },
  {
   "cell_type": "markdown",
   "metadata": {},
   "source": [
    "#### Script Mode Programming:\n",
    "\n",
    "You can put the above code into a notepad, save the file with extension .py (say script.py) and run it from command line interface using below command.\n",
    "\n",
    "python script.py"
   ]
  },
  {
   "cell_type": "markdown",
   "metadata": {},
   "source": [
    "#### Python Identifier:\n",
    "\n",
    "Identifier is the name given to entities like class, functions, variables etc. in Python. It helps differentiating one entity from another.\n",
    "\n",
    "Rules for writing identifiers in Python:\n",
    "\n",
    "•\tIdentifiers can be a combination of letters in lowercase (a to z) or uppercase (A to Z) or digits (0 to 9) or an underscore (_). Names like myClass, var_1 and print_this_to_screen, all are valid example.\n",
    "•\tAn identifier cannot start with a digit. 1variable is invalid, but variable1 is perfectly fine.\n",
    "•\tKeywords cannot be used as identifiers.\n",
    "•\tWe cannot use special symbols like !, @, #, $, % etc. in our identifier"
   ]
  },
  {
   "cell_type": "code",
   "execution_count": 10,
   "metadata": {
    "collapsed": false
   },
   "outputs": [
    {
     "ename": "SyntaxError",
     "evalue": "invalid syntax (<ipython-input-10-ca4ded31a0f4>, line 2)",
     "output_type": "error",
     "traceback": [
      "\u001b[1;36m  File \u001b[1;32m\"<ipython-input-10-ca4ded31a0f4>\"\u001b[1;36m, line \u001b[1;32m2\u001b[0m\n\u001b[1;33m    1variable = 'Identifier can not start with number'\u001b[0m\n\u001b[1;37m            ^\u001b[0m\n\u001b[1;31mSyntaxError\u001b[0m\u001b[1;31m:\u001b[0m invalid syntax\n"
     ]
    }
   ],
   "source": [
    "# variable name can not start with digit in front, 1variable will through syntax error\n",
    "1variable = 'Identifier can not start with number'"
   ]
  },
  {
   "cell_type": "code",
   "execution_count": null,
   "metadata": {
    "collapsed": false
   },
   "outputs": [],
   "source": [
    "# using keywords as variable name will through error\n",
    "class = 1"
   ]
  },
  {
   "cell_type": "code",
   "execution_count": null,
   "metadata": {
    "collapsed": false
   },
   "outputs": [],
   "source": [
    "# using special symbols as variable name will through error\n",
    "x@gmail = 'm.s@gmail.com'"
   ]
  },
  {
   "cell_type": "markdown",
   "metadata": {},
   "source": [
    "#### Basic Objec Types"
   ]
  },
  {
   "cell_type": "code",
   "execution_count": 19,
   "metadata": {
    "collapsed": false
   },
   "outputs": [
    {
     "name": "stdout",
     "output_type": "stream",
     "text": [
      "<type 'NoneType'> None\n",
      "<type 'bool'> True\n",
      "<type 'int'> 1\n",
      "<type 'float'> 3.14\n",
      "<type 'float'> 3.14\n",
      "<type 'float'> inf\n",
      "<type 'float'> nan\n",
      "<type 'complex'> (2+8j)\n",
      "<type 'str'> this is a string\n",
      "<type 'str'> also me\n",
      "<type 'tuple'> (1, True, 'ML')\n",
      "<type 'list'> [1, True, 'ML']\n",
      "<type 'set'> set([1, 2, 3, 4, 5])\n",
      "<type 'dict'> {'a': 'A', True: 1, 2: 'AA', False: 0}\n"
     ]
    }
   ],
   "source": [
    "none = None # singleton null object\n",
    "boolean = bool(True)\n",
    "integer = 1\n",
    "Long = 3.14\n",
    "\n",
    "# float\n",
    "Float = 3.14\n",
    "Float_inf = float('inf')\n",
    "Float_nan = float('nan')\n",
    "\n",
    "# complex object type, note the usage of letter j\n",
    "Complex = 2+8j \n",
    "\n",
    "# string can be enclosed in single or double quote\n",
    "string = 'this is a string'\n",
    "me_also_string = \"also me\"\n",
    "\n",
    "List = [1, True, 'ML'] # Values can be changed\n",
    "\n",
    "Tuple = (1, True, 'ML') # Values can not be changed\n",
    "\n",
    "Set = set([1,2,2,2,3,4,5,5]) # Duplicates will not be stored\n",
    "\n",
    "# Use a dictionary when you have a set of unique keys that map to values\n",
    "Dictionary = {'a':'A', 2:'AA', True:1, False:0}\n",
    "\n",
    "# lets print the object type and the value\n",
    "print type(none), none\n",
    "print type(boolean), boolean\n",
    "print type(integer), integer\n",
    "print type(Long), Long\n",
    "print type(Float), Float\n",
    "print type(Float_inf), Float_inf\n",
    "print type(Float_nan), Float_nan\n",
    "print type(Complex), Complex\n",
    "print type(string), string\n",
    "print type(me_also_string), me_also_string\n",
    "print type(Tuple), Tuple\n",
    "print type(List), List\n",
    "print type(Set), Set\n",
    "print type(Dictionary), Dictionary"
   ]
  },
  {
   "cell_type": "markdown",
   "metadata": {},
   "source": [
    "#### Comments in Python\n",
    "\n",
    "•\tAll characters after the # and up to the physical line end are part of the comment and the Python interpreter ignores them\n",
    "•\tComments spanning more than one line are achieved by inserting a multi-line string (with \"\"\" as the delimiter one each end) that is not used in assignment or otherwise evaluated, but sits in between other statements"
   ]
  },
  {
   "cell_type": "code",
   "execution_count": null,
   "metadata": {
    "collapsed": true
   },
   "outputs": [],
   "source": [
    "# This is a comment in Python\n",
    "print \"Hello Python World\" # This is also a comment in Python\n",
    "\n",
    "\"\"\" This is an example of a multi line\n",
    "comment that spans multiple lines.\n",
    "Everything that is in between is considered as comments\n",
    "\"\"\""
   ]
  },
  {
   "cell_type": "markdown",
   "metadata": {},
   "source": [
    "#### Multiple statementson a single line"
   ]
  },
  {
   "cell_type": "code",
   "execution_count": null,
   "metadata": {
    "collapsed": false
   },
   "outputs": [],
   "source": [
    "import sys; x = 'foo'; print x"
   ]
  },
  {
   "cell_type": "markdown",
   "metadata": {
    "collapsed": true
   },
   "source": [
    "##### Code Blocks\n",
    "\n"
   ]
  },
  {
   "cell_type": "code",
   "execution_count": null,
   "metadata": {
    "collapsed": true
   },
   "outputs": [],
   "source": [
    "# Correct indentation\n",
    "print (\"Programming is an important skill for Data Science\")\n",
    "print (\"Statistics is a imporant skill for Data Science\")\n",
    "print (\"Business domain knowledge is a important skill for Data Science\")\n",
    "\n",
    "# Correct indentation, note that if statement here is an example of suites\n",
    "x = 1\n",
    "if x == 1:\n",
    "    print ('x has a value of 1')\n",
    "else:\n",
    "    print ('x does NOT have a value of 1')"
   ]
  },
  {
   "cell_type": "code",
   "execution_count": null,
   "metadata": {
    "collapsed": true
   },
   "outputs": [],
   "source": [
    "# incorrect indentation, program will generate a syntax error \n",
    "# due to the space character inserted at the beginning of second line\n",
    "print (\"Programming is an important skill for Data Science\")\n",
    " print (\"Statistics is a important skill for Data Science\")\n",
    "print (\"Business domain knowledge is a important skill for Data Science\")\n",
    "\n",
    "# incorrect indentation, program will generate a syntax error\n",
    "# due to the wrong indentation in the else statement\n",
    "x = 1\n",
    "if x == 1:\n",
    "    print ('x has a value of 1')\n",
    "else:\n",
    " print ('x does NOT have a value of 1')"
   ]
  },
  {
   "cell_type": "markdown",
   "metadata": {},
   "source": [
    "#### Milti-line statements\n"
   ]
  },
  {
   "cell_type": "code",
   "execution_count": null,
   "metadata": {
    "collapsed": false
   },
   "outputs": [],
   "source": [
    "# Example of implicit line continuation\n",
    "x = ('1' + '2' + \n",
    "    '3' + '4')\n",
    "\n",
    "# Example of explicit line continuation\n",
    "y = '1' + '2' + \\\n",
    "    '11' + '12'\n",
    "    \n",
    "weekdays = ['Monday', 'Tuesday', 'Wednesday', \n",
    "            'Thursday', 'Friday']\n",
    "\n",
    "weekend = {'Saturday',\n",
    "           'Sunday'}\n",
    "\n",
    "print ('x has a value of', x)\n",
    "print ('y has a value of', y)\n",
    "print days\n",
    "print weekend"
   ]
  },
  {
   "cell_type": "markdown",
   "metadata": {},
   "source": [
    "#### Basic Operators"
   ]
  },
  {
   "cell_type": "markdown",
   "metadata": {},
   "source": [
    "#### Arithmetic operators\n",
    "\n",
    "Arithmetic operators are used to perform mathematical operations like addition, subtraction, multiplication etc."
   ]
  },
  {
   "cell_type": "code",
   "execution_count": null,
   "metadata": {
    "collapsed": false
   },
   "outputs": [],
   "source": [
    "# Variable x holds 10 and variable y holds 5\n",
    "x = 10\n",
    "y = 5\n",
    "\n",
    "# Addition\n",
    "print \"Addition, x(10) + y(5) = \", x + y\n",
    "\n",
    "# Subtraction\n",
    "print \"Subtraction, x(10) - y(5) = \", x - y\n",
    "\n",
    "# Multiplication\n",
    "print \"Multiplication, x(10) * y(5) = \", x * y \n",
    "\n",
    "# Division\n",
    "print \"Division, x(10) / y(5) = \", x / y\n",
    "\n",
    "# Modulus\n",
    "print \"Modulus, x(10) % y(5) = \", x % y\n",
    "\n",
    "# Exponent\n",
    "print \"Exponent, x(10)**y(5) = \", x**y\n",
    "\n",
    "# Integer division rounded towards minus infinity\n",
    "print \"Floor Division, x(10)//y(5) = \", x//y"
   ]
  },
  {
   "cell_type": "markdown",
   "metadata": {},
   "source": [
    "#### Comparison operators\n",
    "\n",
    "Comparison operators are used to compare values. It either returns True or False according to the condition."
   ]
  },
  {
   "cell_type": "code",
   "execution_count": null,
   "metadata": {
    "collapsed": false
   },
   "outputs": [],
   "source": [
    "# Variable x holds 10 and variable b holds 5\n",
    "# Equal check operation\n",
    "print \"Equal check, x(10) == y(5) \", x == y\n",
    "\n",
    "# Not Equal check operation\n",
    "print \"Not Equal check, x(10) != y(5) \", x != y\n",
    "\n",
    "# Not Equal check operation\n",
    "print \"Not Equal check, x(10) <> y(5) \", x <> y\n",
    "\n",
    "# Less than check operation\n",
    "print \"Less than check, x(10) < y(5) \", x < y\n",
    "\n",
    "# Greater check operation\n",
    "print \"Greater than check, x(10) > y(5) \", x > y\n",
    "\n",
    "# Less than or equal check operation\n",
    "print \"Less than or equal to check, x(10) <= y(5) \", x <= y\n",
    "\n",
    "# Greater than or equal to check operation\n",
    "print \"Greater than or equal to check, x(10) >= y(5) \", x >= y"
   ]
  },
  {
   "cell_type": "markdown",
   "metadata": {},
   "source": [
    "#### Assignment operations\n"
   ]
  },
  {
   "cell_type": "code",
   "execution_count": null,
   "metadata": {
    "collapsed": false
   },
   "outputs": [],
   "source": [
    "# Variable x holds 10 and variable y holds 5\n",
    "x = 5\n",
    "y = 10\n",
    "\n",
    "x += y\n",
    "print \"Value of a post x+=y is \", x \n",
    "\n",
    "x *= y\n",
    "print \"Value of a post x*=y is \", x \n",
    "\n",
    "x /= y \n",
    "print \"Value of a post x/=y is \", x \n",
    "\n",
    "x %= y\n",
    "print \"Value of a post x%=y is \", x\n",
    "\n",
    "x **= y\n",
    "print \"Value of x post x**=y is \", x\n",
    "\n",
    "x //= y\n",
    "print \"Value of a post x//=y is \", x"
   ]
  },
  {
   "cell_type": "markdown",
   "metadata": {},
   "source": [
    "#### Bitwise operations\n",
    "\n",
    "Bitwise operators act on operands as if they were string of binary digits. As the name suggest, it operates bit by bit."
   ]
  },
  {
   "cell_type": "code",
   "execution_count": null,
   "metadata": {
    "collapsed": false
   },
   "outputs": [],
   "source": [
    "# Basic six bitwise operations\n",
    "# Let x = 10 (0000 1010 in binary) and y = 4 (0000 0100 in binary)\n",
    "x = 10\n",
    "y = 4\n",
    "\n",
    "print x >> y  # Right Shift\n",
    "print x << y  # Left Shift\n",
    "print x & y   # Bitwise AND\n",
    "print x | y   # Bitwise OR\n",
    "print x ^ y # Bitwise XOR\n",
    "print ~x    # Bitwise NOT"
   ]
  },
  {
   "cell_type": "markdown",
   "metadata": {},
   "source": [
    "#### Logical operators\n",
    "\n",
    "Logical operators are the and, or, not operators."
   ]
  },
  {
   "cell_type": "code",
   "execution_count": null,
   "metadata": {
    "collapsed": false
   },
   "outputs": [],
   "source": [
    "x = True\n",
    "y = False\n",
    "print('x and y is',x and y)\n",
    "print('x or y is',x or y)\n",
    "print('not x is',not x)"
   ]
  },
  {
   "cell_type": "markdown",
   "metadata": {},
   "source": [
    "#### Membership operators\n",
    "\n",
    "in and not in are the membership operators in Python. They are used to test whether a value or variable is found in a sequence (string, list, tuple, set and dictionary). In a dictionary we can only test for presence of key, not the value"
   ]
  },
  {
   "cell_type": "code",
   "execution_count": null,
   "metadata": {
    "collapsed": false
   },
   "outputs": [],
   "source": [
    "var1 = 'Hello world'          # string\n",
    "var1 = {1:'a',2:'b'}          # dictionary\n",
    "print('H' in var1)\n",
    "print('hello' not in var2)\n",
    "print(1 in var2)\n",
    "print('a' in var2)"
   ]
  },
  {
   "cell_type": "markdown",
   "metadata": {},
   "source": [
    "#### Identity operatros\n",
    "\n",
    "is and is not are the identity operators in Python. They are used to check if two values (or variables) are located on the same part of the memory. Two variables that are equal do not imply that they are identical"
   ]
  },
  {
   "cell_type": "code",
   "execution_count": null,
   "metadata": {
    "collapsed": false
   },
   "outputs": [],
   "source": [
    "var1 = 5\n",
    "var1 = 5\n",
    "var2 = 'Hello'\n",
    "var2 = 'Hello'\n",
    "var3 = [1,2,3]\n",
    "var3 = [1,2,3]\n",
    "print(var1 is not var1)\n",
    "print(var2 is var2)\n",
    "print(var3 is var3)"
   ]
  },
  {
   "cell_type": "markdown",
   "metadata": {},
   "source": [
    "## Control structures¶\n",
    "\n",
    "A control structure is the basic decision-making process in computing. It is a block of programming that analyzes variables and chooses a direction in which to go based on given parameters"
   ]
  },
  {
   "cell_type": "code",
   "execution_count": 14,
   "metadata": {
    "collapsed": false
   },
   "outputs": [
    {
     "name": "stdout",
     "output_type": "stream",
     "text": [
      "-1\n",
      "the value of var is negative\n",
      "the value of var is negative\n"
     ]
    }
   ],
   "source": [
    "var = -1\n",
    "if var < 0:\n",
    "    print var\n",
    "    print(\"the value of var is negative\")\n",
    "    \n",
    "# If the suite of an if clause consists only of a single line, it may go on the same line as the header statement\n",
    "if ( var  == -1 ) : print \"the value of var is negative\"    "
   ]
  },
  {
   "cell_type": "code",
   "execution_count": null,
   "metadata": {
    "collapsed": false
   },
   "outputs": [],
   "source": [
    "var = 1\n",
    "\n",
    "if var < 0:\n",
    "    print \"the value of var is negative\"\n",
    "    print var\n",
    "else:\n",
    "    print \"the value of var is positive\"\n",
    "    print var"
   ]
  },
  {
   "cell_type": "code",
   "execution_count": null,
   "metadata": {
    "collapsed": false
   },
   "outputs": [],
   "source": [
    "score = 95\n",
    "\n",
    "if score >= 99:\n",
    "    print('A')\n",
    "elif score >=75:\n",
    "    print('B')\n",
    "elif score >= 60:\n",
    "    print('C')\n",
    "elif score >= 35:\n",
    "    print('D')\n",
    "else:\n",
    "    print('F')"
   ]
  },
  {
   "cell_type": "code",
   "execution_count": 18,
   "metadata": {
    "collapsed": false
   },
   "outputs": [
    {
     "name": "stdout",
     "output_type": "stream",
     "text": [
      "First Example\n",
      "item : 1\n",
      "item : 2\n",
      "item : 3\n",
      "item : 4\n",
      "item : 5\n",
      "Second Example\n",
      "Current letter : A\n",
      "Current letter : B\n",
      "Current letter : C\n",
      "Third Example\n",
      "Current letter : A\n",
      "Current letter : B\n",
      "Current letter : C\n",
      "Fourth Example\n",
      "item : 1\n",
      "item : 2\n",
      "item : 3\n",
      "item : 4\n",
      "item : 5\n",
      "looping over item complete!\n"
     ]
    }
   ],
   "source": [
    "# First Example\n",
    "print \"First Example\"\n",
    "for item in [1,2,3,4,5]:    \n",
    "    print 'item :', item\n",
    "\n",
    "# Second Example    \n",
    "print \"Second Example\"\n",
    "letters = ['A', 'B', 'C']\n",
    "for letter in letters:        \n",
    "    print ' First loop letter :', letter\n",
    "\n",
    "# Third Example - Iterating by sequency index\n",
    "print \"Third Example\"\n",
    "for index in range(len(letters)):\n",
    "    print 'First loop letter :', letters[index]\n",
    "\n",
    "# Fourth Example - Using else statement\n",
    "print \"Fourth Example\"\n",
    "for item in [1,2,3,4,5]:    \n",
    "    print 'item :', item    \n",
    "else:\n",
    "    print 'looping over item complete!'"
   ]
  },
  {
   "cell_type": "code",
   "execution_count": 12,
   "metadata": {
    "collapsed": false
   },
   "outputs": [
    {
     "name": "stdout",
     "output_type": "stream",
     "text": [
      "The count is: 0\n",
      "The count is: 1\n",
      "The count is: 2\n",
      "The count is: 3\n",
      "The count is: 4\n"
     ]
    }
   ],
   "source": [
    "count = 0\n",
    "while (count < 5):\n",
    "    print 'The count is:', count\n",
    "    count = count + 1"
   ]
  },
  {
   "cell_type": "code",
   "execution_count": 13,
   "metadata": {
    "collapsed": false
   },
   "outputs": [
    {
     "name": "stdout",
     "output_type": "stream",
     "text": [
      "0  is  less than 5\n",
      "1  is  less than 5\n",
      "2  is  less than 5\n",
      "3  is  less than 5\n",
      "4  is  less than 5\n",
      "5  is not less than 5\n"
     ]
    }
   ],
   "source": [
    "count = 0\n",
    "while count < 5:\n",
    "    print count, \" is  less than 5\"\n",
    "    count = count + 1\n",
    "else:\n",
    "    print count, \" is not less than 5\""
   ]
  },
  {
   "cell_type": "markdown",
   "metadata": {},
   "source": [
    "### Lists"
   ]
  },
  {
   "cell_type": "code",
   "execution_count": 85,
   "metadata": {
    "collapsed": false
   },
   "outputs": [
    {
     "name": "stdout",
     "output_type": "stream",
     "text": [
      "list_1[0]:  Statistics\n",
      "list2_[1:5]:  ['b', 1, 2, 3]\n",
      "['Statistics', 'Programming', 2016, 2017, 2018, 2019]\n",
      "Value available at index 2 :  2016\n",
      "New value available at index 2 :  2015\n",
      "After deleting value at index 2 :  ['Statistics', 'Programming', 2015, 2017, 2018]\n",
      "Length:  5\n",
      "Concatenation:  [1, 2, 3, 4, 5, 6]\n",
      "Repetition : ['Hello', 'Hello', 'Hello', 'Hello']\n",
      "Membership : True\n",
      "Iteration :\n",
      "1\n",
      "2\n",
      "3\n",
      "slicing : 2017\n",
      "slicing range:  ['Programming', 2015, 2017, 2018]\n",
      "Compare two lists:  1\n",
      "Max of list:  5\n",
      "Min of list:  1\n",
      "Count number of 1 in list:  2\n",
      "Extended : ['Statistics', 'Programming', 2015, 2017, 2018, 'a', 'b', 1, 2, 3, 4, 5, 6, 7]\n",
      "Index for Programming :  1\n",
      "['Statistics', 'Programming', 2015, 2017, 2018, 'a', 'b', 1, 2, 3, 4, 5, 6, 7]\n",
      "pop last item in list:  7\n",
      "pop the item with index 2:  2015\n",
      "removed b from list:  ['Statistics', 'Programming', 2017, 2018, 'a', 1, 2, 3, 4, 5, 6]\n",
      "Reverse:  [6, 5, 4, 3, 2, 1, 'a', 2018, 2017, 'Programming', 'Statistics']\n",
      "Sort ascending:  [1, 2, 3, 'a', 'b', 'c']\n",
      "Sort descending:  ['c', 'b', 'a', 3, 2, 1]\n"
     ]
    }
   ],
   "source": [
    "list_1 = ['Statistics', 'Programming', 2016, 2017, 2018];\n",
    "list_2 = ['a', 'b', 1, 2, 3, 4, 5, 6, 7 ];\n",
    "\n",
    "# Accessing values in lists\n",
    "print \"list_1[0]: \", list_1[0]\n",
    "print \"list2_[1:5]: \", list_2[1:5]\n",
    "\n",
    "# Adding new value to list\n",
    "list_1.append(2019)\n",
    "print list_1\n",
    "\n",
    "# Updating existing values of list\n",
    "print \"Value available at index 2 : \", list_1[2]\n",
    "list_1[2] = 2015;\n",
    "print \"New value available at index 2 : \", list_1[2]\n",
    "\n",
    "# Deleting list elements\n",
    "del list_1[5];\n",
    "print \"After deleting value at index 2 : \", list_1\n",
    "\n",
    "# Basic Operations\n",
    "print \"Length: \", len(list_1)\n",
    "print \"Concatenation: \", [1,2,3] + [4, 5, 6]\n",
    "print \"Repetition :\", ['Hello'] * 4\n",
    "print \"Membership :\", 3 in [1,2,3]\n",
    "print \"Iteration :\"\n",
    "for x in [1,2,3]: print x\n",
    "\n",
    "# Negative sign will count from the right\n",
    "print \"slicing :\", list_1[-2]\n",
    "# If you dont specify the end explicitly, all elements from the specified start index will be printed\n",
    "print \"slicing range: \", list_1[1:]\n",
    "\n",
    "# Comparing elements of lists\n",
    "print \"Compare two lists: \", cmp([1,2,3, 4], [1,2,3])\n",
    "print \"Max of list: \", max([1,2,3,4,5])\n",
    "print \"Min of list: \", min([1,2,3,4,5])\n",
    "print \"Count number of 1 in list: \", [1,1,2,3,4,5,].count(1)\n",
    "list_1.extend(list_2)\n",
    "print \"Extended :\", list_1\n",
    "print \"Index for Programming : \", list_1.index( 'Programming')\n",
    "print list_1\n",
    "print \"pop last item in list: \", list_1.pop()\n",
    "print \"pop the item with index 2: \", list_1.pop(2)\n",
    "list_1.remove('b') \n",
    "print \"removed b from list: \", list_1\n",
    "list_1.reverse()\n",
    "print \"Reverse: \", list_1\n",
    "list_1 = ['a', 'b','c',1,2,3]\n",
    "list_1.sort()\n",
    "print \"Sort ascending: \", list_1\n",
    "list_1.sort(reverse = True)\n",
    "print \"Sort descending: \", list_1"
   ]
  },
  {
   "cell_type": "markdown",
   "metadata": {},
   "source": [
    "### Tuple"
   ]
  },
  {
   "cell_type": "code",
   "execution_count": 91,
   "metadata": {
    "collapsed": false
   },
   "outputs": [
    {
     "name": "stdout",
     "output_type": "stream",
     "text": [
      "('a', 'b', 'c', 'd', 1, 2, 3)\n",
      "()\n",
      "1\n"
     ]
    }
   ],
   "source": [
    "tuple = ('a','b','c','d',1,2,3)\n",
    "print tuple\n",
    "tuple = ()\n",
    "print tuple\n",
    "tuple = (1,)\n",
    "print tuple[0]"
   ]
  },
  {
   "cell_type": "code",
   "execution_count": 2,
   "metadata": {
    "collapsed": false
   },
   "outputs": [
    {
     "name": "stdout",
     "output_type": "stream",
     "text": [
      "Return Value : -1\n",
      "Return Value : 1\n",
      "Return Value : 0\n"
     ]
    }
   ],
   "source": [
    "dict1 = {'Name': 'Jivin', 'Age': 6};\n",
    "dict2 = {'Name': 'Pratham', 'Age': 7};\n",
    "dict3 = {'Name': 'Pranuth', 'Age': 7};\n",
    "dict4 = {'Name': 'Jivin', 'Age': 6};\n",
    "print \"Return Value : %d\" %  cmp (dict1, dict2)\n",
    "print \"Return Value : %d\" %  cmp (dict2, dict3)\n",
    "print \"Return Value : %d\" %  cmp (dict1, dict4)"
   ]
  },
  {
   "cell_type": "code",
   "execution_count": 5,
   "metadata": {
    "collapsed": false
   },
   "outputs": [
    {
     "name": "stdout",
     "output_type": "stream",
     "text": [
      "3\n"
     ]
    }
   ],
   "source": [
    "# simple function to add two numbers\n",
    "def sum_two_numbers(a, b):\n",
    "    return a + b\n",
    "\n",
    "# after this line x will hold the value 3!\n",
    "x = sum_two_numbers(1,2)\n",
    "print x"
   ]
  },
  {
   "cell_type": "code",
   "execution_count": 9,
   "metadata": {
    "collapsed": false
   },
   "outputs": [
    {
     "name": "stdout",
     "output_type": "stream",
     "text": [
      "20\n",
      "15\n"
     ]
    }
   ],
   "source": [
    "def sum_two_numbers(a, b = 10):\n",
    "    return a + b\n",
    "\n",
    "print sum_two_numbers(10)\n",
    "print sum_two_numbers(10, 5)"
   ]
  },
  {
   "cell_type": "code",
   "execution_count": 10,
   "metadata": {
    "collapsed": false
   },
   "outputs": [
    {
     "name": "stdout",
     "output_type": "stream",
     "text": [
      "1\n",
      "2\n",
      "3\n"
     ]
    }
   ],
   "source": [
    "def foo(*args):\n",
    "    for a in args:\n",
    "        print a\n",
    "\n",
    "foo(1,2,3)        "
   ]
  },
  {
   "cell_type": "code",
   "execution_count": 11,
   "metadata": {
    "collapsed": false
   },
   "outputs": [
    {
     "name": "stdout",
     "output_type": "stream",
     "text": [
      "age 27\n",
      "name one\n"
     ]
    }
   ],
   "source": [
    "def bar(**kwargs):\n",
    "    for a in kwargs:\n",
    "        print a, kwargs[a]\n",
    "        \n",
    "bar(name='one', age=27)"
   ]
  },
  {
   "cell_type": "code",
   "execution_count": 13,
   "metadata": {
    "collapsed": false
   },
   "outputs": [
    {
     "name": "stdout",
     "output_type": "stream",
     "text": [
      "['F_OK', 'O_APPEND', 'O_BINARY', 'O_CREAT', 'O_EXCL', 'O_NOINHERIT', 'O_RANDOM', 'O_RDONLY', 'O_RDWR', 'O_SEQUENTIAL', 'O_SHORT_LIVED', 'O_TEMPORARY', 'O_TEXT', 'O_TRUNC', 'O_WRONLY', 'P_DETACH', 'P_NOWAIT', 'P_NOWAITO', 'P_OVERLAY', 'P_WAIT', 'R_OK', 'SEEK_CUR', 'SEEK_END', 'SEEK_SET', 'TMP_MAX', 'UserDict', 'W_OK', 'X_OK', '_Environ', '__all__', '__builtins__', '__doc__', '__file__', '__name__', '__package__', '_copy_reg', '_execvpe', '_exists', '_exit', '_get_exports_list', '_make_stat_result', '_make_statvfs_result', '_pickle_stat_result', '_pickle_statvfs_result', 'abort', 'access', 'altsep', 'chdir', 'chmod', 'close', 'closerange', 'curdir', 'defpath', 'devnull', 'dup', 'dup2', 'environ', 'errno', 'error', 'execl', 'execle', 'execlp', 'execlpe', 'execv', 'execve', 'execvp', 'execvpe', 'extsep', 'fdopen', 'fstat', 'fsync', 'getcwd', 'getcwdu', 'getenv', 'getpid', 'isatty', 'kill', 'linesep', 'listdir', 'lseek', 'lstat', 'makedirs', 'mkdir', 'name', 'open', 'pardir', 'path', 'pathsep', 'pipe', 'popen', 'popen2', 'popen3', 'popen4', 'putenv', 'read', 'remove', 'removedirs', 'rename', 'renames', 'rmdir', 'sep', 'spawnl', 'spawnle', 'spawnv', 'spawnve', 'startfile', 'stat', 'stat_float_times', 'stat_result', 'statvfs_result', 'strerror', 'sys', 'system', 'tempnam', 'times', 'tmpfile', 'tmpnam', 'umask', 'unlink', 'unsetenv', 'urandom', 'utime', 'waitpid', 'walk', 'write']\n"
     ]
    }
   ],
   "source": [
    "import os\n",
    "\n",
    "content = dir(os)\n",
    "\n",
    "print content"
   ]
  },
  {
   "cell_type": "code",
   "execution_count": null,
   "metadata": {
    "collapsed": true
   },
   "outputs": [],
   "source": []
  }
 ],
 "metadata": {
  "anaconda-cloud": {},
  "kernelspec": {
   "display_name": "Python [conda root]",
   "language": "python",
   "name": "conda-root-py"
  },
  "language_info": {
   "codemirror_mode": {
    "name": "ipython",
    "version": 2
   },
   "file_extension": ".py",
   "mimetype": "text/x-python",
   "name": "python",
   "nbconvert_exporter": "python",
   "pygments_lexer": "ipython2",
   "version": "2.7.12"
  }
 },
 "nbformat": 4,
 "nbformat_minor": 0
}
