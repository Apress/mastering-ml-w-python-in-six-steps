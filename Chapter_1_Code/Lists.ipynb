{
 "cells": [
  {
   "cell_type": "markdown",
   "metadata": {},
   "source": [
    "# Lists\n",
    "\n",
    "The list is a most versatile data type available in Python which can be written as a list of comma-separated values (items) between square brackets. Important thing about a list is that items in a list need not be of the same type"
   ]
  },
  {
   "cell_type": "markdown",
   "metadata": {},
   "source": [
    "## Accessing lists"
   ]
  },
  {
   "cell_type": "code",
   "execution_count": 1,
   "metadata": {
    "collapsed": false
   },
   "outputs": [
    {
     "name": "stdout",
     "output_type": "stream",
     "text": [
      "list_1[0]:  Statistics\n",
      "list2_[1:5]:  ['b', 1, 2, 3]\n"
     ]
    }
   ],
   "source": [
    "list_1 = ['Statistics', 'Programming', 2016, 2017, 2018];\n",
    "list_2 = ['a', 'b', 1, 2, 3, 4, 5, 6, 7 ];\n",
    "\n",
    "# Accessing values in lists\n",
    "print \"list_1[0]: \", list_1[0]\n",
    "print \"list2_[1:5]: \", list_2[1:5]"
   ]
  },
  {
   "cell_type": "markdown",
   "metadata": {},
   "source": [
    "## Adding new value to list"
   ]
  },
  {
   "cell_type": "code",
   "execution_count": 7,
   "metadata": {
    "collapsed": false
   },
   "outputs": [
    {
     "name": "stdout",
     "output_type": "stream",
     "text": [
      "list_1 values:  ['c', 'b', 'a', 3, 2, 1]\n",
      "list_1 values post append:  ['c', 'b', 'a', 3, 2, 1, 2019]\n"
     ]
    }
   ],
   "source": [
    "# Adding new value to list\n",
    "print \"list_1 values: \", list_1\n",
    "list_1.append(2019)\n",
    "print \"list_1 values post append: \", list_1"
   ]
  },
  {
   "cell_type": "markdown",
   "metadata": {},
   "source": [
    "## Updating existing values of list"
   ]
  },
  {
   "cell_type": "code",
   "execution_count": 8,
   "metadata": {
    "collapsed": false
   },
   "outputs": [
    {
     "name": "stdout",
     "output_type": "stream",
     "text": [
      "Values of list_1:  ['c', 'b', 'a', 3, 2, 1, 2019]\n",
      "Value available at index 2 :  a\n",
      "New value available at index 2 :  2015\n"
     ]
    }
   ],
   "source": [
    "# Updating existing values of list\n",
    "print \"Values of list_1: \", list_1\n",
    "print \"Value available at index 2 : \", list_1[2]\n",
    "list_1[2] = 2015;\n",
    "print \"New value available at index 2 : \", list_1[2]"
   ]
  },
  {
   "cell_type": "markdown",
   "metadata": {},
   "source": [
    "## Deleting list elements"
   ]
  },
  {
   "cell_type": "code",
   "execution_count": 9,
   "metadata": {
    "collapsed": false
   },
   "outputs": [
    {
     "name": "stdout",
     "output_type": "stream",
     "text": [
      "list_1 values:  ['c', 'b', 2015, 3, 2, 1, 2019]\n",
      "After deleting value at index 2 :  ['c', 'b', 2015, 3, 2, 2019]\n"
     ]
    }
   ],
   "source": [
    "# Deleting list elements\n",
    "print \"list_1 values: \", list_1\n",
    "del list_1[5];\n",
    "print \"After deleting value at index 2 : \", list_1"
   ]
  },
  {
   "cell_type": "markdown",
   "metadata": {},
   "source": [
    "## Basic operations on lists"
   ]
  },
  {
   "cell_type": "code",
   "execution_count": 5,
   "metadata": {
    "collapsed": false
   },
   "outputs": [
    {
     "name": "stdout",
     "output_type": "stream",
     "text": [
      "Length:  5\n",
      "Concatenation:  [1, 2, 3, 4, 5, 6]\n",
      "Repetition : ['Hello', 'Hello', 'Hello', 'Hello']\n",
      "Membership : True\n",
      "Iteration :\n",
      "1\n",
      "2\n",
      "3\n",
      "slicing : 2017\n",
      "slicing range:  ['Programming', 2015, 2017, 2018]\n",
      "Compare two lists:  1\n",
      "Max of list:  5\n",
      "Min of list:  1\n",
      "Count number of 1 in list:  2\n",
      "Extended : ['Statistics', 'Programming', 2015, 2017, 2018, 'a', 'b', 1, 2, 3, 4, 5, 6, 7]\n",
      "Index for Programming :  1\n",
      "['Statistics', 'Programming', 2015, 2017, 2018, 'a', 'b', 1, 2, 3, 4, 5, 6, 7]\n",
      "pop last item in list:  7\n",
      "pop the item with index 2:  2015\n",
      "removed b from list:  ['Statistics', 'Programming', 2017, 2018, 'a', 1, 2, 3, 4, 5, 6]\n",
      "Reverse:  [6, 5, 4, 3, 2, 1, 'a', 2018, 2017, 'Programming', 'Statistics']\n",
      "Sort ascending:  [1, 2, 3, 'a', 'b', 'c']\n",
      "Sort descending:  ['c', 'b', 'a', 3, 2, 1]\n"
     ]
    }
   ],
   "source": [
    "# Basic Operations\n",
    "print \"Length: \", len(list_1)\n",
    "print \"Concatenation: \", [1,2,3] + [4, 5, 6]\n",
    "print \"Repetition :\", ['Hello'] * 4\n",
    "print \"Membership :\", 3 in [1,2,3]\n",
    "print \"Iteration :\"\n",
    "for x in [1,2,3]: print x\n",
    "\n",
    "# Negative sign will count from the right\n",
    "print \"slicing :\", list_1[-2]\n",
    "# If you dont specify the end explicitly, all elements from the specified start index will be printed\n",
    "print \"slicing range: \", list_1[1:]\n",
    "\n",
    "# Comparing elements of lists\n",
    "print \"Compare two lists: \", cmp([1,2,3, 4], [1,2,3])\n",
    "print \"Max of list: \", max([1,2,3,4,5])\n",
    "print \"Min of list: \", min([1,2,3,4,5])\n",
    "print \"Count number of 1 in list: \", [1,1,2,3,4,5,].count(1)\n",
    "list_1.extend(list_2)\n",
    "print \"Extended :\", list_1\n",
    "print \"Index for Programming : \", list_1.index( 'Programming')\n",
    "print list_1\n",
    "print \"pop last item in list: \", list_1.pop()\n",
    "print \"pop the item with index 2: \", list_1.pop(2)\n",
    "list_1.remove('b') \n",
    "print \"removed b from list: \", list_1\n",
    "list_1.reverse()\n",
    "print \"Reverse: \", list_1\n",
    "list_1 = ['a', 'b','c',1,2,3]\n",
    "list_1.sort()\n",
    "print \"Sort ascending: \", list_1\n",
    "list_1.sort(reverse = True)\n",
    "print \"Sort descending: \", list_1"
   ]
  },
  {
   "cell_type": "code",
   "execution_count": null,
   "metadata": {
    "collapsed": true
   },
   "outputs": [],
   "source": []
  }
 ],
 "metadata": {
  "anaconda-cloud": {},
  "kernelspec": {
   "display_name": "Python [conda root]",
   "language": "python",
   "name": "conda-root-py"
  },
  "language_info": {
   "codemirror_mode": {
    "name": "ipython",
    "version": 2
   },
   "file_extension": ".py",
   "mimetype": "text/x-python",
   "name": "python",
   "nbconvert_exporter": "python",
   "pygments_lexer": "ipython2",
   "version": "2.7.12"
  }
 },
 "nbformat": 4,
 "nbformat_minor": 0
}
