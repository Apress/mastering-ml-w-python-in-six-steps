{
 "cells": [
  {
   "cell_type": "markdown",
   "metadata": {},
   "source": [
    "### File Input/Output\n",
    "\n",
    "File is a named location on disk to store related information. When we want to read from or write to a file we need to open it first. When we are done, it needs to be closed, so that resources that are tied with the file are freed.\n",
    "\n",
    "So in Python, a file operation takes place in the following order.\n",
    "1.\tOpen a file\n",
    "2.\tRead or write (perform operation)\n",
    "3.\tClose the file"
   ]
  },
  {
   "cell_type": "code",
   "execution_count": 4,
   "metadata": {
    "collapsed": false
   },
   "outputs": [
    {
     "name": "stdout",
     "output_type": "stream",
     "text": [
      "Enter a number: 2\n",
      "<type 'int'>\n"
     ]
    }
   ],
   "source": [
    "# Read input from console, input will read numeric values and throw error if a string value entered\n",
    "num = input(\"Enter a number: \")\n",
    "print type(num)"
   ]
  },
  {
   "cell_type": "code",
   "execution_count": 2,
   "metadata": {
    "collapsed": false
   },
   "outputs": [
    {
     "name": "stdout",
     "output_type": "stream",
     "text": [
      "Enter a number: 2\n",
      "<type 'str'>\n"
     ]
    }
   ],
   "source": [
    "# Read input from console, raw_input will read input as string\n",
    "num = raw_input(\"Enter a number: \")\n",
    "print type(num)"
   ]
  },
  {
   "cell_type": "markdown",
   "metadata": {},
   "source": [
    "### Writing to a file"
   ]
  },
  {
   "cell_type": "code",
   "execution_count": null,
   "metadata": {
    "collapsed": true
   },
   "outputs": [],
   "source": [
    "# Set working directory\n",
    "import os\n",
    "\n",
    "# Set working directory\n",
    "os.chdir('C:\\\\Users\\\\Manoh\\\\Documents')\n",
    "\n",
    "# Below code will create a file named vechicles and add the items. \\n is a newline character\n",
    "vechicles = ['scooter\\n', 'bike\\n', 'car\\n']\n",
    "f = open('vechicles.txt', 'w')\n",
    "f.writelines(vechicles)\n",
    "f.close()"
   ]
  },
  {
   "cell_type": "markdown",
   "metadata": {},
   "source": [
    "### Reading from file"
   ]
  },
  {
   "cell_type": "code",
   "execution_count": null,
   "metadata": {
    "collapsed": true
   },
   "outputs": [],
   "source": [
    "f = open('vechicles.txt')\n",
    "print f.readlines()\n",
    "f.close()"
   ]
  },
  {
   "cell_type": "markdown",
   "metadata": {},
   "source": [
    "### Exception Handling\n",
    "\n",
    "An exception is an error that happens during the execution of a program that disrupts the normal flow of the program's instructions. When a Python script encounters a situation that it cannot cope with, it raises an exception. Your program should be designed to handle both expected and unexpected errors. "
   ]
  },
  {
   "cell_type": "markdown",
   "metadata": {},
   "source": [
    "#### try and except\n",
    "A critical operation which can raise exception is placed inside the try clause and the code that handles exception is written in except clause"
   ]
  },
  {
   "cell_type": "code",
   "execution_count": 11,
   "metadata": {
    "collapsed": false
   },
   "outputs": [
    {
     "name": "stdout",
     "output_type": "stream",
     "text": [
      " Result of a/b:  1\n"
     ]
    }
   ],
   "source": [
    "import sys\n",
    "\n",
    "try:\n",
    "    a = 1\n",
    "    b = 1\n",
    "    print \"Result of a/b: \", a / b\n",
    "except (ZeroDivisionError):\n",
    "    print(\"Can't divide by zero\")\n",
    "except (TypeError):\n",
    "    print(\"Wrong data type, division is allowed on numeric data type only\")\n",
    "except:\n",
    "    print \"Unexpected error occurred\", '\\n', \"Error Type: \", sys.exc_info()[0], '\\n', \"Error Msg: \", sys.exc_info()[1]"
   ]
  },
  {
   "cell_type": "code",
   "execution_count": 12,
   "metadata": {
    "collapsed": false
   },
   "outputs": [
    {
     "name": "stdout",
     "output_type": "stream",
     "text": [
      "Can't divide by zero\n"
     ]
    }
   ],
   "source": [
    "try:\n",
    "    a = 1\n",
    "    b = 0\n",
    "    print(a / b)\n",
    "except (ZeroDivisionError):\n",
    "    print(\"Can't divide by zero\")\n",
    "except (TypeError):\n",
    "    print(\"Wrong data type, division is allowed on numeric data type only\")\n",
    "except:\n",
    "    print \"Unexpected error occurred\", '\\n', \"Error Type: \", sys.exc_info()[0], '\\n', \"Error Msg: \", sys.exc_info()[1]"
   ]
  },
  {
   "cell_type": "code",
   "execution_count": 13,
   "metadata": {
    "collapsed": false
   },
   "outputs": [
    {
     "name": "stdout",
     "output_type": "stream",
     "text": [
      "Unexpected error occurred \n",
      "Error Type:  <type 'exceptions.NameError'> \n",
      "Error Msg:  name 'A' is not defined\n"
     ]
    }
   ],
   "source": [
    "try:\n",
    "    a = 1\n",
    "    b = 0\n",
    "    print(A / b)\n",
    "except (ZeroDivisionError):\n",
    "    print(\"Can't divide by zero\")\n",
    "except (TypeError):\n",
    "    print(\"Wrong data type, division is allowed on numeric data type only\")\n",
    "except:\n",
    "    print \"Unexpected error occurred\", '\\n', \"Error Type: \", sys.exc_info()[0], '\\n', \"Error Msg: \", sys.exc_info()[1]"
   ]
  },
  {
   "cell_type": "markdown",
   "metadata": {},
   "source": [
    "#### Finally\n",
    "This is an optional clause which is intended to define clean-up actions that must be executed under all circumstances. "
   ]
  },
  {
   "cell_type": "code",
   "execution_count": 16,
   "metadata": {
    "collapsed": false
   },
   "outputs": [
    {
     "name": "stdout",
     "output_type": "stream",
     "text": [
      "scooter\n",
      "\n",
      "Unexpected error occurred \n",
      "Error Type:  <type 'exceptions.NameError'> \n",
      "Error Msg:  name 's' is not defined\n",
      "file has been closed\n"
     ]
    }
   ],
   "source": [
    "try:\n",
    "    f = open('C:\\\\Users\\Manoh\\\\Documents\\\\vechicles.txt')\n",
    "    print f.readline()\n",
    "    i = int(s.strip())\n",
    "except IOError as e:\n",
    "    print \"I/O error({0}): {1}\".format(e.errno, e.strerror)\n",
    "except ValueError:\n",
    "    print \"Could not convert data to an integer.\"\n",
    "except:\n",
    "    print \"Unexpected error occurred\", '\\n', \"Error Type: \", sys.exc_info()[0], '\\n', \"Error Msg: \", sys.exc_info()[1]\n",
    "finally:\n",
    "    f.close()\n",
    "    print \"file has been closed\""
   ]
  }
 ],
 "metadata": {
  "kernelspec": {
   "display_name": "Python [Root]",
   "language": "python",
   "name": "Python [Root]"
  },
  "language_info": {
   "codemirror_mode": {
    "name": "ipython",
    "version": 2
   },
   "file_extension": ".py",
   "mimetype": "text/x-python",
   "name": "python",
   "nbconvert_exporter": "python",
   "pygments_lexer": "ipython2",
   "version": "2.7.12"
  }
 },
 "nbformat": 4,
 "nbformat_minor": 0
}
